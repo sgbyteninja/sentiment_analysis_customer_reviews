{
 "cells": [
  {
   "cell_type": "markdown",
   "metadata": {},
   "source": [
    "# Imports"
   ]
  },
  {
   "cell_type": "code",
   "execution_count": 1,
   "metadata": {},
   "outputs": [
    {
     "name": "stderr",
     "output_type": "stream",
     "text": [
      "/Users/sandragedig/Documents/Dokumente/Data_Science/Elective A/Project/2_development_phase/venv/lib/python3.11/site-packages/tqdm/auto.py:21: TqdmWarning: IProgress not found. Please update jupyter and ipywidgets. See https://ipywidgets.readthedocs.io/en/stable/user_install.html\n",
      "  from .autonotebook import tqdm as notebook_tqdm\n"
     ]
    }
   ],
   "source": [
    "\n",
    "import pandas as pd\n",
    "import kagglehub\n",
    "from sklearn.model_selection import train_test_split\n",
    "import matplotlib.pyplot as plt\n",
    "import os\n",
    "from langdetect import detect\n",
    "\n"
   ]
  },
  {
   "cell_type": "markdown",
   "metadata": {},
   "source": [
    "# Download the Yelp Review Data from Kaggle\n"
   ]
  },
  {
   "cell_type": "code",
   "execution_count": 2,
   "metadata": {},
   "outputs": [
    {
     "name": "stdout",
     "output_type": "stream",
     "text": [
      "The path to the downloaded data is the following: /Users/sandragedig/.cache/kagglehub/datasets/omkarsabnis/yelp-reviews-dataset/versions/1\n"
     ]
    }
   ],
   "source": [
    "# Load the Yelp Review Dataset from Kaggle\n",
    "path = kagglehub.dataset_download(\"omkarsabnis/yelp-reviews-dataset\")\n",
    "\n",
    "print(\"The path to the downloaded data is the following:\", path)"
   ]
  },
  {
   "cell_type": "code",
   "execution_count": 3,
   "metadata": {},
   "outputs": [
    {
     "data": {
      "text/plain": [
       "['yelp.csv']"
      ]
     },
     "execution_count": 3,
     "metadata": {},
     "output_type": "execute_result"
    }
   ],
   "source": [
    "# List all files in the directory\n",
    "directory_path = '/Users/sandragedig/.cache/kagglehub/datasets/omkarsabnis/yelp-reviews-dataset/versions/1'\n",
    "files = os.listdir(directory_path)\n",
    "files"
   ]
  },
  {
   "cell_type": "code",
   "execution_count": 4,
   "metadata": {},
   "outputs": [],
   "source": [
    "# Define the file path for loading the data\n",
    "file_path = '/Users/sandragedig/.cache/kagglehub/datasets/omkarsabnis/yelp-reviews-dataset/versions/1/yelp.csv'\n",
    "\n",
    "# Load the dataset\n",
    "review_df = pd.read_csv(file_path, header=None)"
   ]
  },
  {
   "cell_type": "markdown",
   "metadata": {},
   "source": [
    "# EDA and Data Preparation"
   ]
  },
  {
   "cell_type": "code",
   "execution_count": 5,
   "metadata": {},
   "outputs": [
    {
     "data": {
      "text/plain": [
       "10001"
      ]
     },
     "execution_count": 5,
     "metadata": {},
     "output_type": "execute_result"
    }
   ],
   "source": [
    "# Take a look how many columns are contained in the df\n",
    "review_df.shape[0]"
   ]
  },
  {
   "cell_type": "code",
   "execution_count": 6,
   "metadata": {},
   "outputs": [
    {
     "data": {
      "text/html": [
       "<div>\n",
       "<style scoped>\n",
       "    .dataframe tbody tr th:only-of-type {\n",
       "        vertical-align: middle;\n",
       "    }\n",
       "\n",
       "    .dataframe tbody tr th {\n",
       "        vertical-align: top;\n",
       "    }\n",
       "\n",
       "    .dataframe thead th {\n",
       "        text-align: right;\n",
       "    }\n",
       "</style>\n",
       "<table border=\"1\" class=\"dataframe\">\n",
       "  <thead>\n",
       "    <tr style=\"text-align: right;\">\n",
       "      <th></th>\n",
       "      <th>0</th>\n",
       "      <th>1</th>\n",
       "      <th>2</th>\n",
       "      <th>3</th>\n",
       "      <th>4</th>\n",
       "      <th>5</th>\n",
       "      <th>6</th>\n",
       "      <th>7</th>\n",
       "      <th>8</th>\n",
       "      <th>9</th>\n",
       "    </tr>\n",
       "  </thead>\n",
       "  <tbody>\n",
       "    <tr>\n",
       "      <th>0</th>\n",
       "      <td>business_id</td>\n",
       "      <td>date</td>\n",
       "      <td>review_id</td>\n",
       "      <td>stars</td>\n",
       "      <td>text</td>\n",
       "      <td>type</td>\n",
       "      <td>user_id</td>\n",
       "      <td>cool</td>\n",
       "      <td>useful</td>\n",
       "      <td>funny</td>\n",
       "    </tr>\n",
       "    <tr>\n",
       "      <th>1</th>\n",
       "      <td>9yKzy9PApeiPPOUJEtnvkg</td>\n",
       "      <td>2011-01-26</td>\n",
       "      <td>fWKvX83p0-ka4JS3dc6E5A</td>\n",
       "      <td>5</td>\n",
       "      <td>My wife took me here on my birthday for breakf...</td>\n",
       "      <td>review</td>\n",
       "      <td>rLtl8ZkDX5vH5nAx9C3q5Q</td>\n",
       "      <td>2</td>\n",
       "      <td>5</td>\n",
       "      <td>0</td>\n",
       "    </tr>\n",
       "    <tr>\n",
       "      <th>2</th>\n",
       "      <td>ZRJwVLyzEJq1VAihDhYiow</td>\n",
       "      <td>2011-07-27</td>\n",
       "      <td>IjZ33sJrzXqU-0X6U8NwyA</td>\n",
       "      <td>5</td>\n",
       "      <td>I have no idea why some people give bad review...</td>\n",
       "      <td>review</td>\n",
       "      <td>0a2KyEL0d3Yb1V6aivbIuQ</td>\n",
       "      <td>0</td>\n",
       "      <td>0</td>\n",
       "      <td>0</td>\n",
       "    </tr>\n",
       "    <tr>\n",
       "      <th>3</th>\n",
       "      <td>6oRAC4uyJCsJl1X0WZpVSA</td>\n",
       "      <td>2012-06-14</td>\n",
       "      <td>IESLBzqUCLdSzSqm0eCSxQ</td>\n",
       "      <td>4</td>\n",
       "      <td>love the gyro plate. Rice is so good and I als...</td>\n",
       "      <td>review</td>\n",
       "      <td>0hT2KtfLiobPvh6cDC8JQg</td>\n",
       "      <td>0</td>\n",
       "      <td>1</td>\n",
       "      <td>0</td>\n",
       "    </tr>\n",
       "    <tr>\n",
       "      <th>4</th>\n",
       "      <td>_1QQZuf4zZOyFCvXc0o6Vg</td>\n",
       "      <td>2010-05-27</td>\n",
       "      <td>G-WvGaISbqqaMHlNnByodA</td>\n",
       "      <td>5</td>\n",
       "      <td>Rosie, Dakota, and I LOVE Chaparral Dog Park!!...</td>\n",
       "      <td>review</td>\n",
       "      <td>uZetl9T0NcROGOyFfughhg</td>\n",
       "      <td>1</td>\n",
       "      <td>2</td>\n",
       "      <td>0</td>\n",
       "    </tr>\n",
       "  </tbody>\n",
       "</table>\n",
       "</div>"
      ],
      "text/plain": [
       "                        0           1                       2      3  \\\n",
       "0             business_id        date               review_id  stars   \n",
       "1  9yKzy9PApeiPPOUJEtnvkg  2011-01-26  fWKvX83p0-ka4JS3dc6E5A      5   \n",
       "2  ZRJwVLyzEJq1VAihDhYiow  2011-07-27  IjZ33sJrzXqU-0X6U8NwyA      5   \n",
       "3  6oRAC4uyJCsJl1X0WZpVSA  2012-06-14  IESLBzqUCLdSzSqm0eCSxQ      4   \n",
       "4  _1QQZuf4zZOyFCvXc0o6Vg  2010-05-27  G-WvGaISbqqaMHlNnByodA      5   \n",
       "\n",
       "                                                   4       5  \\\n",
       "0                                               text    type   \n",
       "1  My wife took me here on my birthday for breakf...  review   \n",
       "2  I have no idea why some people give bad review...  review   \n",
       "3  love the gyro plate. Rice is so good and I als...  review   \n",
       "4  Rosie, Dakota, and I LOVE Chaparral Dog Park!!...  review   \n",
       "\n",
       "                        6     7       8      9  \n",
       "0                 user_id  cool  useful  funny  \n",
       "1  rLtl8ZkDX5vH5nAx9C3q5Q     2       5      0  \n",
       "2  0a2KyEL0d3Yb1V6aivbIuQ     0       0      0  \n",
       "3  0hT2KtfLiobPvh6cDC8JQg     0       1      0  \n",
       "4  uZetl9T0NcROGOyFfughhg     1       2      0  "
      ]
     },
     "execution_count": 6,
     "metadata": {},
     "output_type": "execute_result"
    }
   ],
   "source": [
    "# Take a look at the df and see, what needs to be done for data preprocessing\n",
    "review_df.head()"
   ]
  },
  {
   "cell_type": "code",
   "execution_count": 7,
   "metadata": {},
   "outputs": [
    {
     "name": "stdout",
     "output_type": "stream",
     "text": [
      "Index([0, 1, 2, 3, 4, 5, 6, 7, 8, 9], dtype='int64')\n"
     ]
    }
   ],
   "source": [
    "# Display the column names of the review_df\n",
    "print(review_df.columns)"
   ]
  },
  {
   "cell_type": "markdown",
   "metadata": {},
   "source": [
    "## Checking, renaming the necessary columns; dropping the unnecessary ones"
   ]
  },
  {
   "cell_type": "code",
   "execution_count": 8,
   "metadata": {},
   "outputs": [
    {
     "data": {
      "text/html": [
       "<div>\n",
       "<style scoped>\n",
       "    .dataframe tbody tr th:only-of-type {\n",
       "        vertical-align: middle;\n",
       "    }\n",
       "\n",
       "    .dataframe tbody tr th {\n",
       "        vertical-align: top;\n",
       "    }\n",
       "\n",
       "    .dataframe thead th {\n",
       "        text-align: right;\n",
       "    }\n",
       "</style>\n",
       "<table border=\"1\" class=\"dataframe\">\n",
       "  <thead>\n",
       "    <tr style=\"text-align: right;\">\n",
       "      <th></th>\n",
       "      <th>3</th>\n",
       "      <th>4</th>\n",
       "    </tr>\n",
       "  </thead>\n",
       "  <tbody>\n",
       "    <tr>\n",
       "      <th>0</th>\n",
       "      <td>stars</td>\n",
       "      <td>text</td>\n",
       "    </tr>\n",
       "    <tr>\n",
       "      <th>1</th>\n",
       "      <td>5</td>\n",
       "      <td>My wife took me here on my birthday for breakf...</td>\n",
       "    </tr>\n",
       "    <tr>\n",
       "      <th>2</th>\n",
       "      <td>5</td>\n",
       "      <td>I have no idea why some people give bad review...</td>\n",
       "    </tr>\n",
       "    <tr>\n",
       "      <th>3</th>\n",
       "      <td>4</td>\n",
       "      <td>love the gyro plate. Rice is so good and I als...</td>\n",
       "    </tr>\n",
       "    <tr>\n",
       "      <th>4</th>\n",
       "      <td>5</td>\n",
       "      <td>Rosie, Dakota, and I LOVE Chaparral Dog Park!!...</td>\n",
       "    </tr>\n",
       "  </tbody>\n",
       "</table>\n",
       "</div>"
      ],
      "text/plain": [
       "       3                                                  4\n",
       "0  stars                                               text\n",
       "1      5  My wife took me here on my birthday for breakf...\n",
       "2      5  I have no idea why some people give bad review...\n",
       "3      4  love the gyro plate. Rice is so good and I als...\n",
       "4      5  Rosie, Dakota, and I LOVE Chaparral Dog Park!!..."
      ]
     },
     "execution_count": 8,
     "metadata": {},
     "output_type": "execute_result"
    }
   ],
   "source": [
    "# Drop unnecessary columns\n",
    "columns_to_drop = [0, 1, 2, 5, 6, 7, 8, 9]\n",
    "review_df = review_df.drop(review_df.columns[columns_to_drop], axis=1)\n",
    "\n",
    "review_df.head()"
   ]
  },
  {
   "cell_type": "code",
   "execution_count": 9,
   "metadata": {},
   "outputs": [
    {
     "name": "stdout",
     "output_type": "stream",
     "text": [
      "Index([3, 4], dtype='int64')\n"
     ]
    }
   ],
   "source": [
    "# Check the columns in the DataFrame\n",
    "print(review_df.columns)"
   ]
  },
  {
   "cell_type": "code",
   "execution_count": 10,
   "metadata": {},
   "outputs": [
    {
     "name": "stdout",
     "output_type": "stream",
     "text": [
      "   stars                                             review\n",
      "0  stars                                               text\n",
      "1      5  My wife took me here on my birthday for breakf...\n",
      "2      5  I have no idea why some people give bad review...\n",
      "3      4  love the gyro plate. Rice is so good and I als...\n",
      "4      5  Rosie, Dakota, and I LOVE Chaparral Dog Park!!...\n"
     ]
    }
   ],
   "source": [
    "# Rename columns 3 and 4 to \"stars\" and \"review\"\n",
    "review_df.rename(columns={review_df.columns[0]: 'stars', review_df.columns[1]: 'review'}, inplace=True)\n",
    "\n",
    "# Check the updated DataFrame\n",
    "print(review_df.head())\n"
   ]
  },
  {
   "cell_type": "code",
   "execution_count": 11,
   "metadata": {},
   "outputs": [
    {
     "name": "stdout",
     "output_type": "stream",
     "text": [
      "  stars                                             review\n",
      "0     5  My wife took me here on my birthday for breakf...\n",
      "1     5  I have no idea why some people give bad review...\n",
      "2     4  love the gyro plate. Rice is so good and I als...\n",
      "3     5  Rosie, Dakota, and I LOVE Chaparral Dog Park!!...\n",
      "4     5  General Manager Scott Petello is a good egg!!!...\n"
     ]
    }
   ],
   "source": [
    "# Drop the first row (index 0)\n",
    "review_df.drop(index=0, inplace=True)\n",
    "\n",
    "# Reset the index to keep it sequential\n",
    "review_df.reset_index(drop=True, inplace=True)\n",
    "\n",
    "# Check the updated DataFrame\n",
    "print(review_df.head())"
   ]
  },
  {
   "cell_type": "markdown",
   "metadata": {},
   "source": [
    "## Checking and transforming the datatypes"
   ]
  },
  {
   "cell_type": "code",
   "execution_count": 12,
   "metadata": {},
   "outputs": [
    {
     "data": {
      "text/plain": [
       "stars     object\n",
       "review    object\n",
       "dtype: object"
      ]
     },
     "execution_count": 12,
     "metadata": {},
     "output_type": "execute_result"
    }
   ],
   "source": [
    "review_df.dtypes"
   ]
  },
  {
   "cell_type": "code",
   "execution_count": 13,
   "metadata": {},
   "outputs": [
    {
     "name": "stdout",
     "output_type": "stream",
     "text": [
      "stars              int64\n",
      "review    string[python]\n",
      "dtype: object\n"
     ]
    }
   ],
   "source": [
    "# Convert 'stars' column to int64\n",
    "review_df['stars'] = review_df['stars'].astype('int64')\n",
    "\n",
    "# Convert 'review' column to string type (str)\n",
    "review_df['review'] = review_df['review'].astype('string')\n",
    "\n",
    "# Check the data types of the columns\n",
    "print(review_df.dtypes)"
   ]
  },
  {
   "cell_type": "code",
   "execution_count": 14,
   "metadata": {},
   "outputs": [
    {
     "name": "stdout",
     "output_type": "stream",
     "text": [
      "Rows with empty or NaN values in 'review' column:\n",
      "Empty DataFrame\n",
      "Columns: [stars, review]\n",
      "Index: []\n"
     ]
    }
   ],
   "source": [
    "# Überprüfen auf NaN-Werte und leere Strings in der 'review'-Spalte\n",
    "empty_reviews = review_df[review_df['review'].isna() | (review_df['review'].str.strip() == '')]\n",
    "\n",
    "# Zeige alle Zeilen mit leeren oder NaN-Werten in der 'review'-Spalte\n",
    "print(\"Rows with empty or NaN values in 'review' column:\")\n",
    "print(empty_reviews)"
   ]
  },
  {
   "cell_type": "markdown",
   "metadata": {},
   "source": [
    "## Dealing with the three sentiment categories"
   ]
  },
  {
   "cell_type": "code",
   "execution_count": 15,
   "metadata": {},
   "outputs": [
    {
     "data": {
      "text/html": [
       "<div>\n",
       "<style scoped>\n",
       "    .dataframe tbody tr th:only-of-type {\n",
       "        vertical-align: middle;\n",
       "    }\n",
       "\n",
       "    .dataframe tbody tr th {\n",
       "        vertical-align: top;\n",
       "    }\n",
       "\n",
       "    .dataframe thead th {\n",
       "        text-align: right;\n",
       "    }\n",
       "</style>\n",
       "<table border=\"1\" class=\"dataframe\">\n",
       "  <thead>\n",
       "    <tr style=\"text-align: right;\">\n",
       "      <th></th>\n",
       "      <th>stars</th>\n",
       "      <th>review</th>\n",
       "      <th>polarity</th>\n",
       "    </tr>\n",
       "  </thead>\n",
       "  <tbody>\n",
       "    <tr>\n",
       "      <th>0</th>\n",
       "      <td>5</td>\n",
       "      <td>My wife took me here on my birthday for breakf...</td>\n",
       "      <td>positive</td>\n",
       "    </tr>\n",
       "    <tr>\n",
       "      <th>1</th>\n",
       "      <td>5</td>\n",
       "      <td>I have no idea why some people give bad review...</td>\n",
       "      <td>positive</td>\n",
       "    </tr>\n",
       "    <tr>\n",
       "      <th>2</th>\n",
       "      <td>4</td>\n",
       "      <td>love the gyro plate. Rice is so good and I als...</td>\n",
       "      <td>positive</td>\n",
       "    </tr>\n",
       "    <tr>\n",
       "      <th>3</th>\n",
       "      <td>5</td>\n",
       "      <td>Rosie, Dakota, and I LOVE Chaparral Dog Park!!...</td>\n",
       "      <td>positive</td>\n",
       "    </tr>\n",
       "    <tr>\n",
       "      <th>4</th>\n",
       "      <td>5</td>\n",
       "      <td>General Manager Scott Petello is a good egg!!!...</td>\n",
       "      <td>positive</td>\n",
       "    </tr>\n",
       "  </tbody>\n",
       "</table>\n",
       "</div>"
      ],
      "text/plain": [
       "   stars                                             review  polarity\n",
       "0      5  My wife took me here on my birthday for breakf...  positive\n",
       "1      5  I have no idea why some people give bad review...  positive\n",
       "2      4  love the gyro plate. Rice is so good and I als...  positive\n",
       "3      5  Rosie, Dakota, and I LOVE Chaparral Dog Park!!...  positive\n",
       "4      5  General Manager Scott Petello is a good egg!!!...  positive"
      ]
     },
     "execution_count": 15,
     "metadata": {},
     "output_type": "execute_result"
    }
   ],
   "source": [
    "# Dividing the ratings into three categories (positive, neutral, negative) for sentiment analysis, \n",
    "# as it is designed to detect these three emotions.\n",
    "# Create a new column 'polarity' based on 'stars'\n",
    "review_df['polarity'] = review_df['stars'].apply(lambda x: 'positive' if x >= 4 else ('neutral' if x == 3 else 'negative'))\n",
    "\n",
    "review_df.head()"
   ]
  },
  {
   "cell_type": "code",
   "execution_count": 16,
   "metadata": {},
   "outputs": [
    {
     "data": {
      "text/plain": [
       "array(['positive', 'negative', 'neutral'], dtype=object)"
      ]
     },
     "execution_count": 16,
     "metadata": {},
     "output_type": "execute_result"
    }
   ],
   "source": [
    "review_df['polarity'].unique()"
   ]
  },
  {
   "cell_type": "code",
   "execution_count": 17,
   "metadata": {},
   "outputs": [
    {
     "data": {
      "image/png": "[encoded data removed]",
      "text/plain": [
       "<Figure size 600x400 with 1 Axes>"
      ]
     },
     "metadata": {},
     "output_type": "display_data"
    }
   ],
   "source": [
    "# Plot the distribution of sentiment categories\n",
    "plt.figure(figsize=(6,4))\n",
    "review_df['polarity'].value_counts().plot(kind='bar', color=['green', 'gray', 'red'])\n",
    "\n",
    "# Adding labels and title\n",
    "plt.title('Distribution of Sentiment Categories')\n",
    "plt.xlabel('polarity')\n",
    "plt.ylabel('Count')\n",
    "plt.xticks(rotation=0)\n",
    "\n",
    "# Display the plot\n",
    "plt.show()"
   ]
  },
  {
   "cell_type": "markdown",
   "metadata": {},
   "source": [
    "## Dealing with the different languages in the review-column"
   ]
  },
  {
   "cell_type": "code",
   "execution_count": 18,
   "metadata": {},
   "outputs": [
    {
     "name": "stdout",
     "output_type": "stream",
     "text": [
      "detected_language\n",
      "en    9960\n",
      "af       6\n",
      "ca       4\n",
      "so       4\n",
      "it       3\n",
      "cy       3\n",
      "sv       3\n",
      "fr       2\n",
      "sl       2\n",
      "tr       2\n",
      "nl       2\n",
      "id       2\n",
      "tl       2\n",
      "sq       1\n",
      "da       1\n",
      "no       1\n",
      "de       1\n",
      "pt       1\n",
      "Name: count, dtype: int64\n",
      "Percentage of non-English reviews: 0.40%\n"
     ]
    }
   ],
   "source": [
    "# Check if all the reviews are in english\n",
    "review_df['detected_language']=review_df['review'].apply(lambda x: detect(str(x)))\n",
    "print(review_df[\"detected_language\"].value_counts())\n",
    "\n",
    "# Calculate the percentage of the reviews, that are not in english\n",
    "percentage_non_english = review_df[\"detected_language\"].ne(\"en\").mean() * 100\n",
    "print(f\"Percentage of non-English reviews: {percentage_non_english:.2f}%\")"
   ]
  },
  {
   "cell_type": "code",
   "execution_count": 19,
   "metadata": {},
   "outputs": [
    {
     "data": {
      "text/html": [
       "<div>\n",
       "<style scoped>\n",
       "    .dataframe tbody tr th:only-of-type {\n",
       "        vertical-align: middle;\n",
       "    }\n",
       "\n",
       "    .dataframe tbody tr th {\n",
       "        vertical-align: top;\n",
       "    }\n",
       "\n",
       "    .dataframe thead th {\n",
       "        text-align: right;\n",
       "    }\n",
       "</style>\n",
       "<table border=\"1\" class=\"dataframe\">\n",
       "  <thead>\n",
       "    <tr style=\"text-align: right;\">\n",
       "      <th></th>\n",
       "      <th>stars</th>\n",
       "      <th>review</th>\n",
       "      <th>polarity</th>\n",
       "      <th>detected_language</th>\n",
       "    </tr>\n",
       "  </thead>\n",
       "  <tbody>\n",
       "    <tr>\n",
       "      <th>139</th>\n",
       "      <td>4</td>\n",
       "      <td>Very polite staff. Did not wait very long to b...</td>\n",
       "      <td>positive</td>\n",
       "      <td>af</td>\n",
       "    </tr>\n",
       "    <tr>\n",
       "      <th>217</th>\n",
       "      <td>5</td>\n",
       "      <td>Love Krista!</td>\n",
       "      <td>positive</td>\n",
       "      <td>sl</td>\n",
       "    </tr>\n",
       "    <tr>\n",
       "      <th>315</th>\n",
       "      <td>4</td>\n",
       "      <td>Excellent selection of unusual but delicious p...</td>\n",
       "      <td>positive</td>\n",
       "      <td>it</td>\n",
       "    </tr>\n",
       "    <tr>\n",
       "      <th>679</th>\n",
       "      <td>5</td>\n",
       "      <td>Excellent burger</td>\n",
       "      <td>positive</td>\n",
       "      <td>de</td>\n",
       "    </tr>\n",
       "    <tr>\n",
       "      <th>1075</th>\n",
       "      <td>5</td>\n",
       "      <td>Nic-nacs galore!</td>\n",
       "      <td>positive</td>\n",
       "      <td>ca</td>\n",
       "    </tr>\n",
       "    <tr>\n",
       "      <th>1136</th>\n",
       "      <td>5</td>\n",
       "      <td>Best donuts I have ever had.</td>\n",
       "      <td>positive</td>\n",
       "      <td>no</td>\n",
       "    </tr>\n",
       "    <tr>\n",
       "      <th>1290</th>\n",
       "      <td>2</td>\n",
       "      <td>No good</td>\n",
       "      <td>negative</td>\n",
       "      <td>so</td>\n",
       "    </tr>\n",
       "    <tr>\n",
       "      <th>1486</th>\n",
       "      <td>4</td>\n",
       "      <td>Daaaaaaaaaaaaaaaaaaaaaang, their AC feels good...</td>\n",
       "      <td>positive</td>\n",
       "      <td>so</td>\n",
       "    </tr>\n",
       "    <tr>\n",
       "      <th>1496</th>\n",
       "      <td>5</td>\n",
       "      <td>Yum best donuts in Phoenix.</td>\n",
       "      <td>positive</td>\n",
       "      <td>nl</td>\n",
       "    </tr>\n",
       "    <tr>\n",
       "      <th>1588</th>\n",
       "      <td>5</td>\n",
       "      <td>probably my favorite restaurant :)</td>\n",
       "      <td>positive</td>\n",
       "      <td>ca</td>\n",
       "    </tr>\n",
       "    <tr>\n",
       "      <th>1771</th>\n",
       "      <td>3</td>\n",
       "      <td>Great dive bar. Great jukebox</td>\n",
       "      <td>neutral</td>\n",
       "      <td>sq</td>\n",
       "    </tr>\n",
       "    <tr>\n",
       "      <th>2402</th>\n",
       "      <td>4</td>\n",
       "      <td>Chambord margaritas are killer!</td>\n",
       "      <td>positive</td>\n",
       "      <td>sv</td>\n",
       "    </tr>\n",
       "    <tr>\n",
       "      <th>2733</th>\n",
       "      <td>5</td>\n",
       "      <td>Good food</td>\n",
       "      <td>positive</td>\n",
       "      <td>so</td>\n",
       "    </tr>\n",
       "    <tr>\n",
       "      <th>2931</th>\n",
       "      <td>5</td>\n",
       "      <td>Super!</td>\n",
       "      <td>positive</td>\n",
       "      <td>id</td>\n",
       "    </tr>\n",
       "    <tr>\n",
       "      <th>3854</th>\n",
       "      <td>5</td>\n",
       "      <td>Awesome!!!</td>\n",
       "      <td>positive</td>\n",
       "      <td>af</td>\n",
       "    </tr>\n",
       "    <tr>\n",
       "      <th>4091</th>\n",
       "      <td>5</td>\n",
       "      <td>Intense!</td>\n",
       "      <td>positive</td>\n",
       "      <td>nl</td>\n",
       "    </tr>\n",
       "    <tr>\n",
       "      <th>4388</th>\n",
       "      <td>5</td>\n",
       "      <td>Huge store, friendly staff</td>\n",
       "      <td>positive</td>\n",
       "      <td>da</td>\n",
       "    </tr>\n",
       "    <tr>\n",
       "      <th>4759</th>\n",
       "      <td>4</td>\n",
       "      <td>standard Target.</td>\n",
       "      <td>positive</td>\n",
       "      <td>sv</td>\n",
       "    </tr>\n",
       "    <tr>\n",
       "      <th>4851</th>\n",
       "      <td>1</td>\n",
       "      <td>Just don't.</td>\n",
       "      <td>negative</td>\n",
       "      <td>fr</td>\n",
       "    </tr>\n",
       "    <tr>\n",
       "      <th>4968</th>\n",
       "      <td>5</td>\n",
       "      <td>Excellent.</td>\n",
       "      <td>positive</td>\n",
       "      <td>ca</td>\n",
       "    </tr>\n",
       "    <tr>\n",
       "      <th>5105</th>\n",
       "      <td>5</td>\n",
       "      <td>Excellent</td>\n",
       "      <td>positive</td>\n",
       "      <td>ca</td>\n",
       "    </tr>\n",
       "    <tr>\n",
       "      <th>5202</th>\n",
       "      <td>4</td>\n",
       "      <td>Awesome if you like ramen...even awesomer if y...</td>\n",
       "      <td>positive</td>\n",
       "      <td>af</td>\n",
       "    </tr>\n",
       "    <tr>\n",
       "      <th>5242</th>\n",
       "      <td>5</td>\n",
       "      <td>Best pizza place ever!!!!!!!!!!!!!!</td>\n",
       "      <td>positive</td>\n",
       "      <td>it</td>\n",
       "    </tr>\n",
       "    <tr>\n",
       "      <th>5539</th>\n",
       "      <td>5</td>\n",
       "      <td>Good works</td>\n",
       "      <td>positive</td>\n",
       "      <td>af</td>\n",
       "    </tr>\n",
       "    <tr>\n",
       "      <th>5607</th>\n",
       "      <td>5</td>\n",
       "      <td>Best chocolate croissants EVER!!!!</td>\n",
       "      <td>positive</td>\n",
       "      <td>fr</td>\n",
       "    </tr>\n",
       "    <tr>\n",
       "      <th>6448</th>\n",
       "      <td>5</td>\n",
       "      <td>Awesome pool.</td>\n",
       "      <td>positive</td>\n",
       "      <td>af</td>\n",
       "    </tr>\n",
       "    <tr>\n",
       "      <th>6450</th>\n",
       "      <td>3</td>\n",
       "      <td>X</td>\n",
       "      <td>neutral</td>\n",
       "      <td>so</td>\n",
       "    </tr>\n",
       "    <tr>\n",
       "      <th>6707</th>\n",
       "      <td>5</td>\n",
       "      <td>All I can say is \"yum!\"</td>\n",
       "      <td>positive</td>\n",
       "      <td>tl</td>\n",
       "    </tr>\n",
       "    <tr>\n",
       "      <th>6708</th>\n",
       "      <td>4</td>\n",
       "      <td>Go</td>\n",
       "      <td>positive</td>\n",
       "      <td>cy</td>\n",
       "    </tr>\n",
       "    <tr>\n",
       "      <th>6765</th>\n",
       "      <td>2</td>\n",
       "      <td>5 star view...\n",
       "everything else is average...\n",
       "b...</td>\n",
       "      <td>negative</td>\n",
       "      <td>af</td>\n",
       "    </tr>\n",
       "    <tr>\n",
       "      <th>7051</th>\n",
       "      <td>5</td>\n",
       "      <td>Great pizza and awesome must have guacamole pi...</td>\n",
       "      <td>positive</td>\n",
       "      <td>it</td>\n",
       "    </tr>\n",
       "    <tr>\n",
       "      <th>7077</th>\n",
       "      <td>4</td>\n",
       "      <td>great salads and burgers!</td>\n",
       "      <td>positive</td>\n",
       "      <td>sv</td>\n",
       "    </tr>\n",
       "    <tr>\n",
       "      <th>7607</th>\n",
       "      <td>4</td>\n",
       "      <td>Fun dive bar.</td>\n",
       "      <td>positive</td>\n",
       "      <td>tr</td>\n",
       "    </tr>\n",
       "    <tr>\n",
       "      <th>7881</th>\n",
       "      <td>3</td>\n",
       "      <td>Meh.</td>\n",
       "      <td>neutral</td>\n",
       "      <td>id</td>\n",
       "    </tr>\n",
       "    <tr>\n",
       "      <th>7907</th>\n",
       "      <td>5</td>\n",
       "      <td>A real gem!</td>\n",
       "      <td>positive</td>\n",
       "      <td>pt</td>\n",
       "    </tr>\n",
       "    <tr>\n",
       "      <th>8212</th>\n",
       "      <td>5</td>\n",
       "      <td>Beef gyros are always good here.</td>\n",
       "      <td>positive</td>\n",
       "      <td>cy</td>\n",
       "    </tr>\n",
       "    <tr>\n",
       "      <th>9050</th>\n",
       "      <td>5</td>\n",
       "      <td>We love Dr Steve!</td>\n",
       "      <td>positive</td>\n",
       "      <td>sl</td>\n",
       "    </tr>\n",
       "    <tr>\n",
       "      <th>9238</th>\n",
       "      <td>3</td>\n",
       "      <td>Glorified Pei Wei</td>\n",
       "      <td>neutral</td>\n",
       "      <td>cy</td>\n",
       "    </tr>\n",
       "    <tr>\n",
       "      <th>9688</th>\n",
       "      <td>5</td>\n",
       "      <td>Yummy!</td>\n",
       "      <td>positive</td>\n",
       "      <td>tr</td>\n",
       "    </tr>\n",
       "    <tr>\n",
       "      <th>9933</th>\n",
       "      <td>3</td>\n",
       "      <td>It is a salad bar.</td>\n",
       "      <td>neutral</td>\n",
       "      <td>tl</td>\n",
       "    </tr>\n",
       "  </tbody>\n",
       "</table>\n",
       "</div>"
      ],
      "text/plain": [
       "      stars                                             review  polarity  \\\n",
       "139       4  Very polite staff. Did not wait very long to b...  positive   \n",
       "217       5                                       Love Krista!  positive   \n",
       "315       4  Excellent selection of unusual but delicious p...  positive   \n",
       "679       5                                   Excellent burger  positive   \n",
       "1075      5                                   Nic-nacs galore!  positive   \n",
       "1136      5                       Best donuts I have ever had.  positive   \n",
       "1290      2                                            No good  negative   \n",
       "1486      4  Daaaaaaaaaaaaaaaaaaaaaang, their AC feels good...  positive   \n",
       "1496      5                        Yum best donuts in Phoenix.  positive   \n",
       "1588      5                 probably my favorite restaurant :)  positive   \n",
       "1771      3                      Great dive bar. Great jukebox   neutral   \n",
       "2402      4                    Chambord margaritas are killer!  positive   \n",
       "2733      5                                          Good food  positive   \n",
       "2931      5                                             Super!  positive   \n",
       "3854      5                                         Awesome!!!  positive   \n",
       "4091      5                                           Intense!  positive   \n",
       "4388      5                         Huge store, friendly staff  positive   \n",
       "4759      4                                   standard Target.  positive   \n",
       "4851      1                                        Just don't.  negative   \n",
       "4968      5                                         Excellent.  positive   \n",
       "5105      5                                          Excellent  positive   \n",
       "5202      4  Awesome if you like ramen...even awesomer if y...  positive   \n",
       "5242      5                Best pizza place ever!!!!!!!!!!!!!!  positive   \n",
       "5539      5                                         Good works  positive   \n",
       "5607      5                 Best chocolate croissants EVER!!!!  positive   \n",
       "6448      5                                      Awesome pool.  positive   \n",
       "6450      3                                                  X   neutral   \n",
       "6707      5                            All I can say is \"yum!\"  positive   \n",
       "6708      4                                                 Go  positive   \n",
       "6765      2  5 star view...\n",
       "everything else is average...\n",
       "b...  negative   \n",
       "7051      5  Great pizza and awesome must have guacamole pi...  positive   \n",
       "7077      4                          great salads and burgers!  positive   \n",
       "7607      4                                      Fun dive bar.  positive   \n",
       "7881      3                                               Meh.   neutral   \n",
       "7907      5                                        A real gem!  positive   \n",
       "8212      5                   Beef gyros are always good here.  positive   \n",
       "9050      5                                  We love Dr Steve!  positive   \n",
       "9238      3                                  Glorified Pei Wei   neutral   \n",
       "9688      5                                             Yummy!  positive   \n",
       "9933      3                                 It is a salad bar.   neutral   \n",
       "\n",
       "     detected_language  \n",
       "139                 af  \n",
       "217                 sl  \n",
       "315                 it  \n",
       "679                 de  \n",
       "1075                ca  \n",
       "1136                no  \n",
       "1290                so  \n",
       "1486                so  \n",
       "1496                nl  \n",
       "1588                ca  \n",
       "1771                sq  \n",
       "2402                sv  \n",
       "2733                so  \n",
       "2931                id  \n",
       "3854                af  \n",
       "4091                nl  \n",
       "4388                da  \n",
       "4759                sv  \n",
       "4851                fr  \n",
       "4968                ca  \n",
       "5105                ca  \n",
       "5202                af  \n",
       "5242                it  \n",
       "5539                af  \n",
       "5607                fr  \n",
       "6448                af  \n",
       "6450                so  \n",
       "6707                tl  \n",
       "6708                cy  \n",
       "6765                af  \n",
       "7051                it  \n",
       "7077                sv  \n",
       "7607                tr  \n",
       "7881                id  \n",
       "7907                pt  \n",
       "8212                cy  \n",
       "9050                sl  \n",
       "9238                cy  \n",
       "9688                tr  \n",
       "9933                tl  "
      ]
     },
     "execution_count": 19,
     "metadata": {},
     "output_type": "execute_result"
    }
   ],
   "source": [
    "# Filter the rows where detected_language is not 'en'\n",
    "non_english_reviews = review_df[review_df['detected_language'] != 'en']\n",
    "\n",
    "# Display the result\n",
    "non_english_reviews"
   ]
  },
  {
   "cell_type": "markdown",
   "metadata": {},
   "source": [
    "So as we can see, even the reviews, where the detected language is not english, the reviews are in english. So we don't have to translate or delete them to avoid problems with the sentiment classification later on."
   ]
  },
  {
   "cell_type": "markdown",
   "metadata": {},
   "source": [
    "## Dataset Splitting"
   ]
  },
  {
   "cell_type": "code",
   "execution_count": 20,
   "metadata": {},
   "outputs": [
    {
     "name": "stdout",
     "output_type": "stream",
     "text": [
      "Train Set Length: 8000\n",
      "Validation Set Length: 1000\n",
      "Test Set Length: 1000\n"
     ]
    }
   ],
   "source": [
    "# Split the DataFrame into training (80%), validation (10%), and test (10%) sets\n",
    "train_df, temp_df = train_test_split(review_df, test_size=0.2, random_state=42, stratify=review_df['polarity'])\n",
    "val_df, test_df = train_test_split(temp_df, test_size=0.5, random_state=42, stratify=temp_df['polarity'])\n",
    "\n",
    "# Check the lengths of the datasets\n",
    "print(\"Train Set Length:\", len(train_df))\n",
    "print(\"Validation Set Length:\", len(val_df))\n",
    "print(\"Test Set Length:\", len(test_df))\n",
    "\n",
    "# Optionally, you can save the splits to CSV files for later use\n",
    "train_df.to_csv('train_data.csv', index=False)\n",
    "val_df.to_csv('val_data.csv', index=False)\n",
    "test_df.to_csv('test_data.csv', index=False)"
   ]
  }
 ],
 "metadata": {
  "kernelspec": {
   "display_name": "venv",
   "language": "python",
   "name": "python3"
  },
  "language_info": {
   "codemirror_mode": {
    "name": "ipython",
    "version": 3
   },
   "file_extension": ".py",
   "mimetype": "text/x-python",
   "name": "python",
   "nbconvert_exporter": "python",
   "pygments_lexer": "ipython3",
   "version": "3.11.5"
  }
 },
 "nbformat": 4,
 "nbformat_minor": 2
}
