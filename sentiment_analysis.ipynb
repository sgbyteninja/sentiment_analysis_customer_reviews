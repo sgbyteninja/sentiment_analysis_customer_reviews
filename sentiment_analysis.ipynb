{
 "cells": [
  {
   "cell_type": "markdown",
   "metadata": {},
   "source": [
    "# Imports"
   ]
  },
  {
   "cell_type": "code",
   "execution_count": 2,
   "metadata": {},
   "outputs": [],
   "source": [
    "import torch\n",
    "from transformers import RobertaTokenizer, RobertaForSequenceClassification\n",
    "import pandas as pd\n",
    "import numpy as np\n",
    "import torch\n",
    "import kagglehub\n",
    "from sklearn.model_selection import train_test_split\n",
    "import matplotlib.pyplot as plt\n",
    "from torch.utils.data import DataLoader\n",
    "from datasets import Dataset\n",
    "import os\n",
    "from langdetect import detect\n",
    "from translator import translate_review, get_translations_count\n",
    "from deep_translator import GoogleTranslator\n",
    "\n"
   ]
  },
  {
   "cell_type": "markdown",
   "metadata": {},
   "source": [
    "# Download the Yelp Review Data from Kaggle\n"
   ]
  },
  {
   "cell_type": "code",
   "execution_count": 3,
   "metadata": {},
   "outputs": [
    {
     "name": "stdout",
     "output_type": "stream",
     "text": [
      "The path to the downloaded data is the following: /Users/sandragedig/.cache/kagglehub/datasets/omkarsabnis/yelp-reviews-dataset/versions/1\n"
     ]
    }
   ],
   "source": [
    "# Load the Yelp Review Dataset from Kaggle\n",
    "path = kagglehub.dataset_download(\"omkarsabnis/yelp-reviews-dataset\")\n",
    "\n",
    "print(\"The path to the downloaded data is the following:\", path)"
   ]
  },
  {
   "cell_type": "code",
   "execution_count": 4,
   "metadata": {},
   "outputs": [
    {
     "data": {
      "text/plain": [
       "['yelp.csv']"
      ]
     },
     "execution_count": 4,
     "metadata": {},
     "output_type": "execute_result"
    }
   ],
   "source": [
    "# List all files in the directory\n",
    "directory_path = '/Users/sandragedig/.cache/kagglehub/datasets/omkarsabnis/yelp-reviews-dataset/versions/1'\n",
    "files = os.listdir(directory_path)\n",
    "files"
   ]
  },
  {
   "cell_type": "code",
   "execution_count": 5,
   "metadata": {},
   "outputs": [],
   "source": [
    "# Define the file path for loading the data\n",
    "file_path = '/Users/sandragedig/.cache/kagglehub/datasets/omkarsabnis/yelp-reviews-dataset/versions/1/yelp.csv'\n",
    "\n",
    "# Load the dataset\n",
    "review_df = pd.read_csv(file_path, header=None)"
   ]
  },
  {
   "cell_type": "markdown",
   "metadata": {},
   "source": [
    "# EDA and Data Preparation"
   ]
  },
  {
   "cell_type": "code",
   "execution_count": 6,
   "metadata": {},
   "outputs": [
    {
     "data": {
      "text/plain": [
       "10001"
      ]
     },
     "execution_count": 6,
     "metadata": {},
     "output_type": "execute_result"
    }
   ],
   "source": [
    "# Take a look how many columns are contained in the df\n",
    "review_df.shape[0]"
   ]
  },
  {
   "cell_type": "code",
   "execution_count": 7,
   "metadata": {},
   "outputs": [
    {
     "data": {
      "text/html": [
       "<div>\n",
       "<style scoped>\n",
       "    .dataframe tbody tr th:only-of-type {\n",
       "        vertical-align: middle;\n",
       "    }\n",
       "\n",
       "    .dataframe tbody tr th {\n",
       "        vertical-align: top;\n",
       "    }\n",
       "\n",
       "    .dataframe thead th {\n",
       "        text-align: right;\n",
       "    }\n",
       "</style>\n",
       "<table border=\"1\" class=\"dataframe\">\n",
       "  <thead>\n",
       "    <tr style=\"text-align: right;\">\n",
       "      <th></th>\n",
       "      <th>0</th>\n",
       "      <th>1</th>\n",
       "      <th>2</th>\n",
       "      <th>3</th>\n",
       "      <th>4</th>\n",
       "      <th>5</th>\n",
       "      <th>6</th>\n",
       "      <th>7</th>\n",
       "      <th>8</th>\n",
       "      <th>9</th>\n",
       "    </tr>\n",
       "  </thead>\n",
       "  <tbody>\n",
       "    <tr>\n",
       "      <th>0</th>\n",
       "      <td>business_id</td>\n",
       "      <td>date</td>\n",
       "      <td>review_id</td>\n",
       "      <td>stars</td>\n",
       "      <td>text</td>\n",
       "      <td>type</td>\n",
       "      <td>user_id</td>\n",
       "      <td>cool</td>\n",
       "      <td>useful</td>\n",
       "      <td>funny</td>\n",
       "    </tr>\n",
       "    <tr>\n",
       "      <th>1</th>\n",
       "      <td>9yKzy9PApeiPPOUJEtnvkg</td>\n",
       "      <td>2011-01-26</td>\n",
       "      <td>fWKvX83p0-ka4JS3dc6E5A</td>\n",
       "      <td>5</td>\n",
       "      <td>My wife took me here on my birthday for breakf...</td>\n",
       "      <td>review</td>\n",
       "      <td>rLtl8ZkDX5vH5nAx9C3q5Q</td>\n",
       "      <td>2</td>\n",
       "      <td>5</td>\n",
       "      <td>0</td>\n",
       "    </tr>\n",
       "    <tr>\n",
       "      <th>2</th>\n",
       "      <td>ZRJwVLyzEJq1VAihDhYiow</td>\n",
       "      <td>2011-07-27</td>\n",
       "      <td>IjZ33sJrzXqU-0X6U8NwyA</td>\n",
       "      <td>5</td>\n",
       "      <td>I have no idea why some people give bad review...</td>\n",
       "      <td>review</td>\n",
       "      <td>0a2KyEL0d3Yb1V6aivbIuQ</td>\n",
       "      <td>0</td>\n",
       "      <td>0</td>\n",
       "      <td>0</td>\n",
       "    </tr>\n",
       "    <tr>\n",
       "      <th>3</th>\n",
       "      <td>6oRAC4uyJCsJl1X0WZpVSA</td>\n",
       "      <td>2012-06-14</td>\n",
       "      <td>IESLBzqUCLdSzSqm0eCSxQ</td>\n",
       "      <td>4</td>\n",
       "      <td>love the gyro plate. Rice is so good and I als...</td>\n",
       "      <td>review</td>\n",
       "      <td>0hT2KtfLiobPvh6cDC8JQg</td>\n",
       "      <td>0</td>\n",
       "      <td>1</td>\n",
       "      <td>0</td>\n",
       "    </tr>\n",
       "    <tr>\n",
       "      <th>4</th>\n",
       "      <td>_1QQZuf4zZOyFCvXc0o6Vg</td>\n",
       "      <td>2010-05-27</td>\n",
       "      <td>G-WvGaISbqqaMHlNnByodA</td>\n",
       "      <td>5</td>\n",
       "      <td>Rosie, Dakota, and I LOVE Chaparral Dog Park!!...</td>\n",
       "      <td>review</td>\n",
       "      <td>uZetl9T0NcROGOyFfughhg</td>\n",
       "      <td>1</td>\n",
       "      <td>2</td>\n",
       "      <td>0</td>\n",
       "    </tr>\n",
       "  </tbody>\n",
       "</table>\n",
       "</div>"
      ],
      "text/plain": [
       "                        0           1                       2      3  \\\n",
       "0             business_id        date               review_id  stars   \n",
       "1  9yKzy9PApeiPPOUJEtnvkg  2011-01-26  fWKvX83p0-ka4JS3dc6E5A      5   \n",
       "2  ZRJwVLyzEJq1VAihDhYiow  2011-07-27  IjZ33sJrzXqU-0X6U8NwyA      5   \n",
       "3  6oRAC4uyJCsJl1X0WZpVSA  2012-06-14  IESLBzqUCLdSzSqm0eCSxQ      4   \n",
       "4  _1QQZuf4zZOyFCvXc0o6Vg  2010-05-27  G-WvGaISbqqaMHlNnByodA      5   \n",
       "\n",
       "                                                   4       5  \\\n",
       "0                                               text    type   \n",
       "1  My wife took me here on my birthday for breakf...  review   \n",
       "2  I have no idea why some people give bad review...  review   \n",
       "3  love the gyro plate. Rice is so good and I als...  review   \n",
       "4  Rosie, Dakota, and I LOVE Chaparral Dog Park!!...  review   \n",
       "\n",
       "                        6     7       8      9  \n",
       "0                 user_id  cool  useful  funny  \n",
       "1  rLtl8ZkDX5vH5nAx9C3q5Q     2       5      0  \n",
       "2  0a2KyEL0d3Yb1V6aivbIuQ     0       0      0  \n",
       "3  0hT2KtfLiobPvh6cDC8JQg     0       1      0  \n",
       "4  uZetl9T0NcROGOyFfughhg     1       2      0  "
      ]
     },
     "execution_count": 7,
     "metadata": {},
     "output_type": "execute_result"
    }
   ],
   "source": [
    "# Take a look at the df and see, what needs to be done for data preprocessing\n",
    "review_df.head()"
   ]
  },
  {
   "cell_type": "code",
   "execution_count": 8,
   "metadata": {},
   "outputs": [
    {
     "name": "stdout",
     "output_type": "stream",
     "text": [
      "Index([0, 1, 2, 3, 4, 5, 6, 7, 8, 9], dtype='int64')\n"
     ]
    }
   ],
   "source": [
    "# Display the column names of the review_df\n",
    "print(review_df.columns)"
   ]
  },
  {
   "cell_type": "markdown",
   "metadata": {},
   "source": [
    "## Checking, renaming the necessary columns; dropping the unnecessary ones"
   ]
  },
  {
   "cell_type": "code",
   "execution_count": 9,
   "metadata": {},
   "outputs": [
    {
     "data": {
      "text/html": [
       "<div>\n",
       "<style scoped>\n",
       "    .dataframe tbody tr th:only-of-type {\n",
       "        vertical-align: middle;\n",
       "    }\n",
       "\n",
       "    .dataframe tbody tr th {\n",
       "        vertical-align: top;\n",
       "    }\n",
       "\n",
       "    .dataframe thead th {\n",
       "        text-align: right;\n",
       "    }\n",
       "</style>\n",
       "<table border=\"1\" class=\"dataframe\">\n",
       "  <thead>\n",
       "    <tr style=\"text-align: right;\">\n",
       "      <th></th>\n",
       "      <th>3</th>\n",
       "      <th>4</th>\n",
       "    </tr>\n",
       "  </thead>\n",
       "  <tbody>\n",
       "    <tr>\n",
       "      <th>0</th>\n",
       "      <td>stars</td>\n",
       "      <td>text</td>\n",
       "    </tr>\n",
       "    <tr>\n",
       "      <th>1</th>\n",
       "      <td>5</td>\n",
       "      <td>My wife took me here on my birthday for breakf...</td>\n",
       "    </tr>\n",
       "    <tr>\n",
       "      <th>2</th>\n",
       "      <td>5</td>\n",
       "      <td>I have no idea why some people give bad review...</td>\n",
       "    </tr>\n",
       "    <tr>\n",
       "      <th>3</th>\n",
       "      <td>4</td>\n",
       "      <td>love the gyro plate. Rice is so good and I als...</td>\n",
       "    </tr>\n",
       "    <tr>\n",
       "      <th>4</th>\n",
       "      <td>5</td>\n",
       "      <td>Rosie, Dakota, and I LOVE Chaparral Dog Park!!...</td>\n",
       "    </tr>\n",
       "  </tbody>\n",
       "</table>\n",
       "</div>"
      ],
      "text/plain": [
       "       3                                                  4\n",
       "0  stars                                               text\n",
       "1      5  My wife took me here on my birthday for breakf...\n",
       "2      5  I have no idea why some people give bad review...\n",
       "3      4  love the gyro plate. Rice is so good and I als...\n",
       "4      5  Rosie, Dakota, and I LOVE Chaparral Dog Park!!..."
      ]
     },
     "execution_count": 9,
     "metadata": {},
     "output_type": "execute_result"
    }
   ],
   "source": [
    "# Drop unnecessary columns\n",
    "columns_to_drop = [0, 1, 2, 5, 6, 7, 8, 9]\n",
    "review_df = review_df.drop(review_df.columns[columns_to_drop], axis=1)\n",
    "\n",
    "review_df.head()"
   ]
  },
  {
   "cell_type": "code",
   "execution_count": 10,
   "metadata": {},
   "outputs": [
    {
     "name": "stdout",
     "output_type": "stream",
     "text": [
      "Index([3, 4], dtype='int64')\n"
     ]
    }
   ],
   "source": [
    "# Check the columns in the DataFrame\n",
    "print(review_df.columns)"
   ]
  },
  {
   "cell_type": "code",
   "execution_count": 11,
   "metadata": {},
   "outputs": [
    {
     "name": "stdout",
     "output_type": "stream",
     "text": [
      "   stars                                             review\n",
      "0  stars                                               text\n",
      "1      5  My wife took me here on my birthday for breakf...\n",
      "2      5  I have no idea why some people give bad review...\n",
      "3      4  love the gyro plate. Rice is so good and I als...\n",
      "4      5  Rosie, Dakota, and I LOVE Chaparral Dog Park!!...\n"
     ]
    }
   ],
   "source": [
    "# Rename columns 3 and 4 to \"stars\" and \"review\"\n",
    "review_df.rename(columns={review_df.columns[0]: 'stars', review_df.columns[1]: 'review'}, inplace=True)\n",
    "\n",
    "# Check the updated DataFrame\n",
    "print(review_df.head())\n"
   ]
  },
  {
   "cell_type": "code",
   "execution_count": 12,
   "metadata": {},
   "outputs": [
    {
     "name": "stdout",
     "output_type": "stream",
     "text": [
      "  stars                                             review\n",
      "0     5  My wife took me here on my birthday for breakf...\n",
      "1     5  I have no idea why some people give bad review...\n",
      "2     4  love the gyro plate. Rice is so good and I als...\n",
      "3     5  Rosie, Dakota, and I LOVE Chaparral Dog Park!!...\n",
      "4     5  General Manager Scott Petello is a good egg!!!...\n"
     ]
    }
   ],
   "source": [
    "# Drop the first row (index 0)\n",
    "review_df.drop(index=0, inplace=True)\n",
    "\n",
    "# Reset the index to keep it sequential\n",
    "review_df.reset_index(drop=True, inplace=True)\n",
    "\n",
    "# Check the updated DataFrame\n",
    "print(review_df.head())"
   ]
  },
  {
   "cell_type": "markdown",
   "metadata": {},
   "source": [
    "## Checking and transforming the datatypes"
   ]
  },
  {
   "cell_type": "code",
   "execution_count": 13,
   "metadata": {},
   "outputs": [
    {
     "data": {
      "text/plain": [
       "stars     object\n",
       "review    object\n",
       "dtype: object"
      ]
     },
     "execution_count": 13,
     "metadata": {},
     "output_type": "execute_result"
    }
   ],
   "source": [
    "review_df.dtypes"
   ]
  },
  {
   "cell_type": "code",
   "execution_count": 14,
   "metadata": {},
   "outputs": [
    {
     "name": "stdout",
     "output_type": "stream",
     "text": [
      "stars              int64\n",
      "review    string[python]\n",
      "dtype: object\n"
     ]
    }
   ],
   "source": [
    "# Convert 'stars' column to int64\n",
    "review_df['stars'] = review_df['stars'].astype('int64')\n",
    "\n",
    "# Convert 'review' column to string type (str)\n",
    "review_df['review'] = review_df['review'].astype('string')\n",
    "\n",
    "# Check the data types of the columns\n",
    "print(review_df.dtypes)"
   ]
  },
  {
   "cell_type": "code",
   "execution_count": 15,
   "metadata": {},
   "outputs": [
    {
     "name": "stdout",
     "output_type": "stream",
     "text": [
      "Rows with empty or NaN values in 'review' column:\n",
      "Empty DataFrame\n",
      "Columns: [stars, review]\n",
      "Index: []\n"
     ]
    }
   ],
   "source": [
    "# Überprüfen auf NaN-Werte und leere Strings in der 'review'-Spalte\n",
    "empty_reviews = review_df[review_df['review'].isna() | (review_df['review'].str.strip() == '')]\n",
    "\n",
    "# Zeige alle Zeilen mit leeren oder NaN-Werten in der 'review'-Spalte\n",
    "print(\"Rows with empty or NaN values in 'review' column:\")\n",
    "print(empty_reviews)"
   ]
  },
  {
   "cell_type": "markdown",
   "metadata": {},
   "source": [
    "## Dealing with the three sentiment categories"
   ]
  },
  {
   "cell_type": "code",
   "execution_count": 16,
   "metadata": {},
   "outputs": [
    {
     "data": {
      "text/html": [
       "<div>\n",
       "<style scoped>\n",
       "    .dataframe tbody tr th:only-of-type {\n",
       "        vertical-align: middle;\n",
       "    }\n",
       "\n",
       "    .dataframe tbody tr th {\n",
       "        vertical-align: top;\n",
       "    }\n",
       "\n",
       "    .dataframe thead th {\n",
       "        text-align: right;\n",
       "    }\n",
       "</style>\n",
       "<table border=\"1\" class=\"dataframe\">\n",
       "  <thead>\n",
       "    <tr style=\"text-align: right;\">\n",
       "      <th></th>\n",
       "      <th>stars</th>\n",
       "      <th>review</th>\n",
       "      <th>polarity</th>\n",
       "    </tr>\n",
       "  </thead>\n",
       "  <tbody>\n",
       "    <tr>\n",
       "      <th>0</th>\n",
       "      <td>5</td>\n",
       "      <td>My wife took me here on my birthday for breakf...</td>\n",
       "      <td>positive</td>\n",
       "    </tr>\n",
       "    <tr>\n",
       "      <th>1</th>\n",
       "      <td>5</td>\n",
       "      <td>I have no idea why some people give bad review...</td>\n",
       "      <td>positive</td>\n",
       "    </tr>\n",
       "    <tr>\n",
       "      <th>2</th>\n",
       "      <td>4</td>\n",
       "      <td>love the gyro plate. Rice is so good and I als...</td>\n",
       "      <td>positive</td>\n",
       "    </tr>\n",
       "    <tr>\n",
       "      <th>3</th>\n",
       "      <td>5</td>\n",
       "      <td>Rosie, Dakota, and I LOVE Chaparral Dog Park!!...</td>\n",
       "      <td>positive</td>\n",
       "    </tr>\n",
       "    <tr>\n",
       "      <th>4</th>\n",
       "      <td>5</td>\n",
       "      <td>General Manager Scott Petello is a good egg!!!...</td>\n",
       "      <td>positive</td>\n",
       "    </tr>\n",
       "  </tbody>\n",
       "</table>\n",
       "</div>"
      ],
      "text/plain": [
       "   stars                                             review  polarity\n",
       "0      5  My wife took me here on my birthday for breakf...  positive\n",
       "1      5  I have no idea why some people give bad review...  positive\n",
       "2      4  love the gyro plate. Rice is so good and I als...  positive\n",
       "3      5  Rosie, Dakota, and I LOVE Chaparral Dog Park!!...  positive\n",
       "4      5  General Manager Scott Petello is a good egg!!!...  positive"
      ]
     },
     "execution_count": 16,
     "metadata": {},
     "output_type": "execute_result"
    }
   ],
   "source": [
    "# Dividing the ratings into three categories (positive, neutral, negative) for sentiment analysis, \n",
    "# as it is designed to detect these three emotions.\n",
    "# Create a new column 'polarity' based on 'stars'\n",
    "review_df['polarity'] = review_df['stars'].apply(lambda x: 'positive' if x >= 4 else ('neutral' if x == 3 else 'negative'))\n",
    "\n",
    "review_df.head()"
   ]
  },
  {
   "cell_type": "code",
   "execution_count": 17,
   "metadata": {},
   "outputs": [
    {
     "data": {
      "text/plain": [
       "array(['positive', 'negative', 'neutral'], dtype=object)"
      ]
     },
     "execution_count": 17,
     "metadata": {},
     "output_type": "execute_result"
    }
   ],
   "source": [
    "review_df['polarity'].unique()"
   ]
  },
  {
   "cell_type": "code",
   "execution_count": null,
   "metadata": {},
   "outputs": [
    {
     "data": {
      "image/png": "[encoded data removed]",
      "text/plain": [
       "<Figure size 600x400 with 1 Axes>"
      ]
     },
     "metadata": {},
     "output_type": "display_data"
    }
   ],
   "source": [
    "# Plot the distribution of sentiment categories\n",
    "plt.figure(figsize=(6,4))\n",
    "review_df['polarity'].value_counts().plot(kind='bar', color=['green', 'gray', 'red'])\n",
    "\n",
    "# Adding labels and title\n",
    "plt.title('Distribution of Sentiment Categories')\n",
    "plt.xlabel('polarity')\n",
    "plt.ylabel('Count')\n",
    "plt.xticks(rotation=0)\n",
    "\n",
    "# Display the plot\n",
    "plt.show()"
   ]
  },
  {
   "cell_type": "markdown",
   "metadata": {},
   "source": [
    "## Dealing with the different languages in the review-column"
   ]
  },
  {
   "cell_type": "code",
   "execution_count": null,
   "metadata": {},
   "outputs": [
    {
     "name": "stdout",
     "output_type": "stream",
     "text": [
      "detected_language\n",
      "en    9960\n",
      "af       6\n",
      "so       4\n",
      "it       4\n",
      "sv       3\n",
      "cy       3\n",
      "ca       3\n",
      "nl       2\n",
      "sl       2\n",
      "id       2\n",
      "fr       2\n",
      "tl       2\n",
      "tr       2\n",
      "no       1\n",
      "de       1\n",
      "da       1\n",
      "pt       1\n",
      "es       1\n",
      "Name: count, dtype: int64\n",
      "Percentage of non-English reviews: 0.40%\n"
     ]
    }
   ],
   "source": [
    "# Check if all the reviews are in english\n",
    "review_df['detected_language']=review_df['review'].apply(lambda x: detect(str(x)))\n",
    "print(review_df[\"detected_language\"].value_counts())\n",
    "\n",
    "# Calculate the percentage of the reviews, that are not in english\n",
    "percentage_non_english = review_df[\"detected_language\"].ne(\"en\").mean() * 100\n",
    "print(f\"Percentage of non-English reviews: {percentage_non_english:.2f}%\")"
   ]
  },
  {
   "cell_type": "code",
   "execution_count": 151,
   "metadata": {},
   "outputs": [
    {
     "name": "stdout",
     "output_type": "stream",
     "text": [
      "                                              review  \\\n",
      "0  My wife took me here on my birthday for breakf...   \n",
      "1  I have no idea why some people give bad review...   \n",
      "2  love the gyro plate. Rice is so good and I als...   \n",
      "3  Rosie, Dakota, and I LOVE Chaparral Dog Park!!...   \n",
      "4  General Manager Scott Petello is a good egg!!!...   \n",
      "\n",
      "                                   translated_review  \n",
      "0  My wife took me here on my birthday for breakf...  \n",
      "1  I have no idea why some people give bad review...  \n",
      "2  love the gyro plate. Rice is so good and I als...  \n",
      "3  Rosie, Dakota, and I LOVE Chaparral Dog Park!!...  \n",
      "4  General Manager Scott Petello is a good egg!!!...  \n",
      "Number of translations: 42\n"
     ]
    }
   ],
   "source": [
    "# Assuming you have the review_df DataFrame\n",
    "review_df['translated_review'] = review_df['review'].apply(translate_review)\n",
    "\n",
    "# Print the DataFrame to see results\n",
    "print(review_df[['review', 'translated_review']].head())\n",
    "\n",
    "# Print how many reviews were translated\n",
    "print(f\"Number of translations: {get_translations_count()}\")"
   ]
  },
  {
   "cell_type": "code",
   "execution_count": 21,
   "metadata": {},
   "outputs": [
    {
     "data": {
      "text/html": [
       "<div>\n",
       "<style scoped>\n",
       "    .dataframe tbody tr th:only-of-type {\n",
       "        vertical-align: middle;\n",
       "    }\n",
       "\n",
       "    .dataframe tbody tr th {\n",
       "        vertical-align: top;\n",
       "    }\n",
       "\n",
       "    .dataframe thead th {\n",
       "        text-align: right;\n",
       "    }\n",
       "</style>\n",
       "<table border=\"1\" class=\"dataframe\">\n",
       "  <thead>\n",
       "    <tr style=\"text-align: right;\">\n",
       "      <th></th>\n",
       "      <th>stars</th>\n",
       "      <th>review</th>\n",
       "      <th>polarity</th>\n",
       "      <th>detected_language</th>\n",
       "      <th>translated_review</th>\n",
       "    </tr>\n",
       "  </thead>\n",
       "  <tbody>\n",
       "    <tr>\n",
       "      <th>0</th>\n",
       "      <td>5</td>\n",
       "      <td>My wife took me here on my birthday for breakf...</td>\n",
       "      <td>positive</td>\n",
       "      <td>en</td>\n",
       "      <td>My wife took me here on my birthday for breakf...</td>\n",
       "    </tr>\n",
       "    <tr>\n",
       "      <th>1</th>\n",
       "      <td>5</td>\n",
       "      <td>I have no idea why some people give bad review...</td>\n",
       "      <td>positive</td>\n",
       "      <td>en</td>\n",
       "      <td>I have no idea why some people give bad review...</td>\n",
       "    </tr>\n",
       "    <tr>\n",
       "      <th>2</th>\n",
       "      <td>4</td>\n",
       "      <td>love the gyro plate. Rice is so good and I als...</td>\n",
       "      <td>positive</td>\n",
       "      <td>en</td>\n",
       "      <td>love the gyro plate. Rice is so good and I als...</td>\n",
       "    </tr>\n",
       "    <tr>\n",
       "      <th>3</th>\n",
       "      <td>5</td>\n",
       "      <td>Rosie, Dakota, and I LOVE Chaparral Dog Park!!...</td>\n",
       "      <td>positive</td>\n",
       "      <td>en</td>\n",
       "      <td>Rosie, Dakota, and I LOVE Chaparral Dog Park!!...</td>\n",
       "    </tr>\n",
       "    <tr>\n",
       "      <th>4</th>\n",
       "      <td>5</td>\n",
       "      <td>General Manager Scott Petello is a good egg!!!...</td>\n",
       "      <td>positive</td>\n",
       "      <td>en</td>\n",
       "      <td>General Manager Scott Petello is a good egg!!!...</td>\n",
       "    </tr>\n",
       "    <tr>\n",
       "      <th>...</th>\n",
       "      <td>...</td>\n",
       "      <td>...</td>\n",
       "      <td>...</td>\n",
       "      <td>...</td>\n",
       "      <td>...</td>\n",
       "    </tr>\n",
       "    <tr>\n",
       "      <th>9995</th>\n",
       "      <td>3</td>\n",
       "      <td>First visit...Had lunch here today - used my G...</td>\n",
       "      <td>neutral</td>\n",
       "      <td>en</td>\n",
       "      <td>First visit...Had lunch here today - used my G...</td>\n",
       "    </tr>\n",
       "    <tr>\n",
       "      <th>9996</th>\n",
       "      <td>4</td>\n",
       "      <td>Should be called house of deliciousness!\n",
       "\n",
       "I co...</td>\n",
       "      <td>positive</td>\n",
       "      <td>en</td>\n",
       "      <td>Should be called house of deliciousness!\\n\\nI ...</td>\n",
       "    </tr>\n",
       "    <tr>\n",
       "      <th>9997</th>\n",
       "      <td>4</td>\n",
       "      <td>I recently visited Olive and Ivy for business ...</td>\n",
       "      <td>positive</td>\n",
       "      <td>en</td>\n",
       "      <td>I recently visited Olive and Ivy for business ...</td>\n",
       "    </tr>\n",
       "    <tr>\n",
       "      <th>9998</th>\n",
       "      <td>2</td>\n",
       "      <td>My nephew just moved to Scottsdale recently so...</td>\n",
       "      <td>negative</td>\n",
       "      <td>en</td>\n",
       "      <td>My nephew just moved to Scottsdale recently so...</td>\n",
       "    </tr>\n",
       "    <tr>\n",
       "      <th>9999</th>\n",
       "      <td>5</td>\n",
       "      <td>4-5 locations.. all 4.5 star average.. I think...</td>\n",
       "      <td>positive</td>\n",
       "      <td>en</td>\n",
       "      <td>4-5 locations.. all 4.5 star average.. I think...</td>\n",
       "    </tr>\n",
       "  </tbody>\n",
       "</table>\n",
       "<p>10000 rows × 5 columns</p>\n",
       "</div>"
      ],
      "text/plain": [
       "      stars                                             review  polarity  \\\n",
       "0         5  My wife took me here on my birthday for breakf...  positive   \n",
       "1         5  I have no idea why some people give bad review...  positive   \n",
       "2         4  love the gyro plate. Rice is so good and I als...  positive   \n",
       "3         5  Rosie, Dakota, and I LOVE Chaparral Dog Park!!...  positive   \n",
       "4         5  General Manager Scott Petello is a good egg!!!...  positive   \n",
       "...     ...                                                ...       ...   \n",
       "9995      3  First visit...Had lunch here today - used my G...   neutral   \n",
       "9996      4  Should be called house of deliciousness!\n",
       "\n",
       "I co...  positive   \n",
       "9997      4  I recently visited Olive and Ivy for business ...  positive   \n",
       "9998      2  My nephew just moved to Scottsdale recently so...  negative   \n",
       "9999      5  4-5 locations.. all 4.5 star average.. I think...  positive   \n",
       "\n",
       "     detected_language                                  translated_review  \n",
       "0                   en  My wife took me here on my birthday for breakf...  \n",
       "1                   en  I have no idea why some people give bad review...  \n",
       "2                   en  love the gyro plate. Rice is so good and I als...  \n",
       "3                   en  Rosie, Dakota, and I LOVE Chaparral Dog Park!!...  \n",
       "4                   en  General Manager Scott Petello is a good egg!!!...  \n",
       "...                ...                                                ...  \n",
       "9995                en  First visit...Had lunch here today - used my G...  \n",
       "9996                en  Should be called house of deliciousness!\\n\\nI ...  \n",
       "9997                en  I recently visited Olive and Ivy for business ...  \n",
       "9998                en  My nephew just moved to Scottsdale recently so...  \n",
       "9999                en  4-5 locations.. all 4.5 star average.. I think...  \n",
       "\n",
       "[10000 rows x 5 columns]"
      ]
     },
     "execution_count": 21,
     "metadata": {},
     "output_type": "execute_result"
    }
   ],
   "source": [
    "review_df"
   ]
  },
  {
   "cell_type": "code",
   "execution_count": 93,
   "metadata": {},
   "outputs": [
    {
     "name": "stdout",
     "output_type": "stream",
     "text": [
      "detected_language\n",
      "en    9961\n",
      "af       7\n",
      "ca       4\n",
      "so       4\n",
      "it       3\n",
      "sv       3\n",
      "da       2\n",
      "cy       2\n",
      "nl       2\n",
      "id       2\n",
      "fr       2\n",
      "tl       2\n",
      "tr       2\n",
      "pt       1\n",
      "ro       1\n",
      "no       1\n",
      "es       1\n",
      "Name: count, dtype: int64\n",
      "Percentage of non-English reviews: 0.39%\n"
     ]
    }
   ],
   "source": [
    "# Check if all the reviews are in english\n",
    "review_df['detected_language']=review_df['translated_review'].apply(lambda x: detect(str(x)))\n",
    "print(review_df[\"detected_language\"].value_counts())\n",
    "\n",
    "# Calculate the percentage of the reviews, that are not in english\n",
    "percentage_non_english = review_df[\"detected_language\"].ne(\"en\").mean() * 100\n",
    "print(f\"Percentage of non-English reviews: {percentage_non_english:.2f}%\")"
   ]
  },
  {
   "cell_type": "code",
   "execution_count": 154,
   "metadata": {},
   "outputs": [
    {
     "name": "stdout",
     "output_type": "stream",
     "text": [
      "                                              review  \\\n",
      "0  My wife took me here on my birthday for breakf...   \n",
      "1  I have no idea why some people give bad review...   \n",
      "2  love the gyro plate. Rice is so good and I als...   \n",
      "3  Rosie, Dakota, and I LOVE Chaparral Dog Park!!...   \n",
      "4  General Manager Scott Petello is a good egg!!!...   \n",
      "\n",
      "                                   translated_review  \n",
      "0  My wife took me here on my birthday for breakf...  \n",
      "1  I have no idea why some people give bad review...  \n",
      "2  love the gyro plate. Rice is so good and I als...  \n",
      "3  Rosie, Dakota, and I LOVE Chaparral Dog Park!!...  \n",
      "4  General Manager Scott Petello is a good egg!!!...  \n"
     ]
    }
   ],
   "source": [
    "from deep_translator import GoogleTranslator\n",
    "from langdetect import detect\n",
    "\n",
    "# Function to translate reviews using Deep Translator\n",
    "def translate_review(review):\n",
    "    try:\n",
    "        if not review:\n",
    "            return review  # If empty or None, return the original review\n",
    "        \n",
    "        # Detect the language of the review\n",
    "        detected_language = detect(review)\n",
    "        \n",
    "        # Translate only if the review is not in English\n",
    "        if detected_language != 'en':\n",
    "            translated = GoogleTranslator(source='auto', target='en').translate(review)\n",
    "            return translated  # Return the translated text\n",
    "        else:\n",
    "            return review  # If it's already in English, return the original review\n",
    "    except Exception as e:\n",
    "        print(f\"Error during translation: {e}\")\n",
    "        return review  # If error occurs, return the original review\n",
    "\n",
    "# Apply translation to your DataFrame\n",
    "review_df['translated_review'] = review_df['review'].apply(translate_review)\n",
    "\n",
    "# Print the DataFrame to see results\n",
    "print(review_df[['review', 'translated_review']].head())\n"
   ]
  },
  {
   "cell_type": "code",
   "execution_count": 155,
   "metadata": {},
   "outputs": [
    {
     "ename": "NameError",
     "evalue": "name 'translations_count' is not defined",
     "output_type": "error",
     "traceback": [
      "\u001b[31m---------------------------------------------------------------------------\u001b[39m",
      "\u001b[31mNameError\u001b[39m                                 Traceback (most recent call last)",
      "\u001b[36mCell\u001b[39m\u001b[36m \u001b[39m\u001b[32mIn[155]\u001b[39m\u001b[32m, line 2\u001b[39m\n\u001b[32m      1\u001b[39m \u001b[38;5;66;03m# Print how many reviews were translated\u001b[39;00m\n\u001b[32m----> \u001b[39m\u001b[32m2\u001b[39m \u001b[38;5;28mprint\u001b[39m(\u001b[33mf\u001b[39m\u001b[33m\"\u001b[39m\u001b[33mNumber of translations: \u001b[39m\u001b[38;5;132;01m{\u001b[39;00m\u001b[43mtranslations_count\u001b[49m\u001b[38;5;132;01m}\u001b[39;00m\u001b[33m\"\u001b[39m)\n",
      "\u001b[31mNameError\u001b[39m: name 'translations_count' is not defined"
     ]
    }
   ],
   "source": [
    "# Print how many reviews were translated\n",
    "print(f\"Number of translations: {translations_count}\")"
   ]
  },
  {
   "cell_type": "markdown",
   "metadata": {},
   "source": [
    "## Dataset Splitting"
   ]
  },
  {
   "cell_type": "code",
   "execution_count": 207,
   "metadata": {},
   "outputs": [
    {
     "name": "stdout",
     "output_type": "stream",
     "text": [
      "Train Set Length: 8000\n",
      "Validation Set Length: 1000\n",
      "Test Set Length: 1000\n"
     ]
    }
   ],
   "source": [
    "# Split the DataFrame into training (80%), validation (10%), and test (10%) sets\n",
    "train_df, temp_df = train_test_split(review_df, test_size=0.2, random_state=42, stratify=review_df['polarity'])\n",
    "val_df, test_df = train_test_split(temp_df, test_size=0.5, random_state=42, stratify=temp_df['polarity'])\n",
    "\n",
    "# Check the lengths of the datasets\n",
    "print(\"Train Set Length:\", len(train_df))\n",
    "print(\"Validation Set Length:\", len(val_df))\n",
    "print(\"Test Set Length:\", len(test_df))\n",
    "\n",
    "# Optionally, you can save the splits to CSV files for later use\n",
    "train_df.to_csv('train_data.csv', index=False)\n",
    "val_df.to_csv('val_data.csv', index=False)\n",
    "test_df.to_csv('test_data.csv', index=False)"
   ]
  },
  {
   "cell_type": "markdown",
   "metadata": {},
   "source": [
    "## Tokenisation"
   ]
  },
  {
   "cell_type": "code",
   "execution_count": 208,
   "metadata": {},
   "outputs": [],
   "source": [
    "# Convert train_df to Hugging Face Dataset format\n",
    "train_df = Dataset.from_pandas(train_df)\n",
    "val_df = Dataset.from_pandas(val_df)\n",
    "test_df = Dataset.from_pandas(test_df)"
   ]
  },
  {
   "cell_type": "code",
   "execution_count": 209,
   "metadata": {},
   "outputs": [],
   "source": [
    "# Load the RoBERTa tokenizer\n",
    "tokenizer = RobertaTokenizer.from_pretrained('roberta-base')\n",
    "\n",
    "# Tokenize the 'combined_review' column\n",
    "def tokenize_function(examples):\n",
    "    return tokenizer(examples['review'], padding=\"max_length\", truncation=True)"
   ]
  },
  {
   "cell_type": "code",
   "execution_count": 210,
   "metadata": {},
   "outputs": [
    {
     "name": "stderr",
     "output_type": "stream",
     "text": [
      "Map: 100%|██████████| 8000/8000 [00:04<00:00, 1835.21 examples/s]\n",
      "Map: 100%|██████████| 1000/1000 [00:00<00:00, 1623.75 examples/s]\n",
      "Map: 100%|██████████| 1000/1000 [00:00<00:00, 1601.79 examples/s]\n"
     ]
    }
   ],
   "source": [
    "# Tokenize datasets\n",
    "train_df = train_df.map(tokenize_function, batched=True)\n",
    "val_df = val_df.map(tokenize_function, batched=True)\n",
    "test_df = test_df.map(tokenize_function, batched=True)"
   ]
  },
  {
   "cell_type": "code",
   "execution_count": 211,
   "metadata": {},
   "outputs": [
    {
     "name": "stderr",
     "output_type": "stream",
     "text": [
      "Some weights of RobertaForSequenceClassification were not initialized from the model checkpoint at roberta-base and are newly initialized: ['classifier.dense.bias', 'classifier.dense.weight', 'classifier.out_proj.bias', 'classifier.out_proj.weight']\n",
      "You should probably TRAIN this model on a down-stream task to be able to use it for predictions and inference.\n"
     ]
    }
   ],
   "source": [
    "model_name = 'roberta-base'\n",
    "tokenizer = RobertaTokenizer.from_pretrained(model_name)\n",
    "# We work with 3 output labels for the three emotions categories neutral, positive and negative\n",
    "model = RobertaForSequenceClassification.from_pretrained(model_name, num_labels=3)  \n"
   ]
  }
 ],
 "metadata": {
  "kernelspec": {
   "display_name": "venv",
   "language": "python",
   "name": "python3"
  },
  "language_info": {
   "codemirror_mode": {
    "name": "ipython",
    "version": 3
   },
   "file_extension": ".py",
   "mimetype": "text/x-python",
   "name": "python",
   "nbconvert_exporter": "python",
   "pygments_lexer": "ipython3",
   "version": "3.11.5"
  }
 },
 "nbformat": 4,
 "nbformat_minor": 2
}
